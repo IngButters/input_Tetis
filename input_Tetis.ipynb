{
 "metadata": {
  "language_info": {
   "codemirror_mode": {
    "name": "ipython",
    "version": 3
   },
   "file_extension": ".py",
   "mimetype": "text/x-python",
   "name": "python",
   "nbconvert_exporter": "python",
   "pygments_lexer": "ipython3",
   "version": "3.7.10"
  },
  "orig_nbformat": 4,
  "kernelspec": {
   "name": "python3",
   "display_name": "Python 3.7.10 64-bit ('base': conda)"
  },
  "interpreter": {
   "hash": "c892d2f2469ac58b2e6583e8c4e56f21e7d803fe4a41741cd2e7ad0d6e316d87"
  }
 },
 "nbformat": 4,
 "nbformat_minor": 2,
 "cells": [
  {
   "source": [
    "# Precipitation data"
   ],
   "cell_type": "markdown",
   "metadata": {}
  },
  {
   "cell_type": "code",
   "execution_count": 155,
   "metadata": {},
   "outputs": [
    {
     "output_type": "execute_result",
     "data": {
      "text/plain": [
       "       21210130  21210150  21215160       fecha\n",
       "0           NaN       NaN       NaN  1950-01-01\n",
       "1           NaN       NaN       NaN  1950-01-02\n",
       "2           NaN       NaN       NaN  1950-01-03\n",
       "3           NaN       NaN       NaN  1950-01-04\n",
       "4           NaN       NaN       NaN  1950-01-05\n",
       "...         ...       ...       ...         ...\n",
       "26293       NaN       NaN       NaN  2021-12-27\n",
       "26294       NaN       NaN       NaN  2021-12-28\n",
       "26295       NaN       NaN       NaN  2021-12-29\n",
       "26296       NaN       NaN       NaN  2021-12-30\n",
       "26297       NaN       NaN       NaN  2021-12-31\n",
       "\n",
       "[26298 rows x 4 columns]"
      ],
      "text/html": "<div>\n<style scoped>\n    .dataframe tbody tr th:only-of-type {\n        vertical-align: middle;\n    }\n\n    .dataframe tbody tr th {\n        vertical-align: top;\n    }\n\n    .dataframe thead th {\n        text-align: right;\n    }\n</style>\n<table border=\"1\" class=\"dataframe\">\n  <thead>\n    <tr style=\"text-align: right;\">\n      <th></th>\n      <th>21210130</th>\n      <th>21210150</th>\n      <th>21215160</th>\n      <th>fecha</th>\n    </tr>\n  </thead>\n  <tbody>\n    <tr>\n      <th>0</th>\n      <td>NaN</td>\n      <td>NaN</td>\n      <td>NaN</td>\n      <td>1950-01-01</td>\n    </tr>\n    <tr>\n      <th>1</th>\n      <td>NaN</td>\n      <td>NaN</td>\n      <td>NaN</td>\n      <td>1950-01-02</td>\n    </tr>\n    <tr>\n      <th>2</th>\n      <td>NaN</td>\n      <td>NaN</td>\n      <td>NaN</td>\n      <td>1950-01-03</td>\n    </tr>\n    <tr>\n      <th>3</th>\n      <td>NaN</td>\n      <td>NaN</td>\n      <td>NaN</td>\n      <td>1950-01-04</td>\n    </tr>\n    <tr>\n      <th>4</th>\n      <td>NaN</td>\n      <td>NaN</td>\n      <td>NaN</td>\n      <td>1950-01-05</td>\n    </tr>\n    <tr>\n      <th>...</th>\n      <td>...</td>\n      <td>...</td>\n      <td>...</td>\n      <td>...</td>\n    </tr>\n    <tr>\n      <th>26293</th>\n      <td>NaN</td>\n      <td>NaN</td>\n      <td>NaN</td>\n      <td>2021-12-27</td>\n    </tr>\n    <tr>\n      <th>26294</th>\n      <td>NaN</td>\n      <td>NaN</td>\n      <td>NaN</td>\n      <td>2021-12-28</td>\n    </tr>\n    <tr>\n      <th>26295</th>\n      <td>NaN</td>\n      <td>NaN</td>\n      <td>NaN</td>\n      <td>2021-12-29</td>\n    </tr>\n    <tr>\n      <th>26296</th>\n      <td>NaN</td>\n      <td>NaN</td>\n      <td>NaN</td>\n      <td>2021-12-30</td>\n    </tr>\n    <tr>\n      <th>26297</th>\n      <td>NaN</td>\n      <td>NaN</td>\n      <td>NaN</td>\n      <td>2021-12-31</td>\n    </tr>\n  </tbody>\n</table>\n<p>26298 rows × 4 columns</p>\n</div>"
     },
     "metadata": {},
     "execution_count": 155
    }
   ],
   "source": [
    "import pandas as pd\n",
    "\n",
    "filename = 'C:/Users/Bender/Desktop/Mapas_ERA/Anexos_Final/Anexo A series IDEAM bruta/precipitacion_sup.csv'\n",
    "\n",
    "letra = \"P\"\n",
    "\n",
    "columnas = ['fecha',\"21210150\",\n",
    "\"21215160\",\n",
    "\"21210130\"]\n",
    "\n",
    "df_precip_sup = pd.read_csv(filename, usecols = columnas)\n",
    "\n",
    "df_precip_sup"
   ]
  },
  {
   "cell_type": "code",
   "execution_count": 80,
   "metadata": {},
   "outputs": [
    {
     "output_type": "execute_result",
     "data": {
      "text/plain": [
       "       21210130  21210150  21215160      fecha\n",
       "0           NaN       NaN       NaN 1950-01-01\n",
       "1           NaN       NaN       NaN 1950-01-02\n",
       "2           NaN       NaN       NaN 1950-01-03\n",
       "3           NaN       NaN       NaN 1950-01-04\n",
       "4           NaN       NaN       NaN 1950-01-05\n",
       "...         ...       ...       ...        ...\n",
       "26293       NaN       NaN       NaN 2021-12-27\n",
       "26294       NaN       NaN       NaN 2021-12-28\n",
       "26295       NaN       NaN       NaN 2021-12-29\n",
       "26296       NaN       NaN       NaN 2021-12-30\n",
       "26297       NaN       NaN       NaN 2021-12-31\n",
       "\n",
       "[26298 rows x 4 columns]"
      ],
      "text/html": "<div>\n<style scoped>\n    .dataframe tbody tr th:only-of-type {\n        vertical-align: middle;\n    }\n\n    .dataframe tbody tr th {\n        vertical-align: top;\n    }\n\n    .dataframe thead th {\n        text-align: right;\n    }\n</style>\n<table border=\"1\" class=\"dataframe\">\n  <thead>\n    <tr style=\"text-align: right;\">\n      <th></th>\n      <th>21210130</th>\n      <th>21210150</th>\n      <th>21215160</th>\n      <th>fecha</th>\n    </tr>\n  </thead>\n  <tbody>\n    <tr>\n      <th>0</th>\n      <td>NaN</td>\n      <td>NaN</td>\n      <td>NaN</td>\n      <td>1950-01-01</td>\n    </tr>\n    <tr>\n      <th>1</th>\n      <td>NaN</td>\n      <td>NaN</td>\n      <td>NaN</td>\n      <td>1950-01-02</td>\n    </tr>\n    <tr>\n      <th>2</th>\n      <td>NaN</td>\n      <td>NaN</td>\n      <td>NaN</td>\n      <td>1950-01-03</td>\n    </tr>\n    <tr>\n      <th>3</th>\n      <td>NaN</td>\n      <td>NaN</td>\n      <td>NaN</td>\n      <td>1950-01-04</td>\n    </tr>\n    <tr>\n      <th>4</th>\n      <td>NaN</td>\n      <td>NaN</td>\n      <td>NaN</td>\n      <td>1950-01-05</td>\n    </tr>\n    <tr>\n      <th>...</th>\n      <td>...</td>\n      <td>...</td>\n      <td>...</td>\n      <td>...</td>\n    </tr>\n    <tr>\n      <th>26293</th>\n      <td>NaN</td>\n      <td>NaN</td>\n      <td>NaN</td>\n      <td>2021-12-27</td>\n    </tr>\n    <tr>\n      <th>26294</th>\n      <td>NaN</td>\n      <td>NaN</td>\n      <td>NaN</td>\n      <td>2021-12-28</td>\n    </tr>\n    <tr>\n      <th>26295</th>\n      <td>NaN</td>\n      <td>NaN</td>\n      <td>NaN</td>\n      <td>2021-12-29</td>\n    </tr>\n    <tr>\n      <th>26296</th>\n      <td>NaN</td>\n      <td>NaN</td>\n      <td>NaN</td>\n      <td>2021-12-30</td>\n    </tr>\n    <tr>\n      <th>26297</th>\n      <td>NaN</td>\n      <td>NaN</td>\n      <td>NaN</td>\n      <td>2021-12-31</td>\n    </tr>\n  </tbody>\n</table>\n<p>26298 rows × 4 columns</p>\n</div>"
     },
     "metadata": {},
     "execution_count": 80
    }
   ],
   "source": [
    "#Transform column 'fecha' to_datetime\n",
    "df_precip_sup.fecha = pd.to_datetime(df_precip_sup.fecha)\n",
    "df_precip_sup"
   ]
  },
  {
   "cell_type": "code",
   "execution_count": 13,
   "metadata": {},
   "outputs": [
    {
     "output_type": "execute_result",
     "data": {
      "text/plain": [
       "  Estaciones\n",
       "0   21210130\n",
       "1   21210150\n",
       "2   21215160\n",
       "3      fecha"
      ],
      "text/html": "<div>\n<style scoped>\n    .dataframe tbody tr th:only-of-type {\n        vertical-align: middle;\n    }\n\n    .dataframe tbody tr th {\n        vertical-align: top;\n    }\n\n    .dataframe thead th {\n        text-align: right;\n    }\n</style>\n<table border=\"1\" class=\"dataframe\">\n  <thead>\n    <tr style=\"text-align: right;\">\n      <th></th>\n      <th>Estaciones</th>\n    </tr>\n  </thead>\n  <tbody>\n    <tr>\n      <th>0</th>\n      <td>21210130</td>\n    </tr>\n    <tr>\n      <th>1</th>\n      <td>21210150</td>\n    </tr>\n    <tr>\n      <th>2</th>\n      <td>21215160</td>\n    </tr>\n    <tr>\n      <th>3</th>\n      <td>fecha</td>\n    </tr>\n  </tbody>\n</table>\n</div>"
     },
     "metadata": {},
     "execution_count": 13
    }
   ],
   "source": [
    "# create a columns dataframe? we don't need this\n",
    "# check the \"columnas\" list\n",
    "df_estaciones = pd.DataFrame(df_precip_sup.columns, columns=['Estaciones'])\n",
    "df_estaciones"
   ]
  },
  {
   "source": [
    "## Precipitation stations information\n",
    "Adds the location (latitude and longitude) of the stations "
   ],
   "cell_type": "markdown",
   "metadata": {}
  },
  {
   "cell_type": "code",
   "execution_count": 125,
   "metadata": {},
   "outputs": [
    {
     "output_type": "execute_result",
     "data": {
      "text/plain": [
       "      CODIGO                                    nombre             CATEGORIA  \\\n",
       "0   21215190                CAJAMARCA - AUT [21215190]   Clim�tica Principal   \n",
       "1   21215180          BATALLON ROOKE  - AUT [21215180]   Clim�tica Principal   \n",
       "2   21215160  CERROS NOROCCIDENTALES  - AUT [21215160]   Clim�tica Principal   \n",
       "3   21250460                      VENADILLO [21250460]         Pluviom�trica   \n",
       "4   21245040             AEROPUERTO PERALES [21245040]  Sin�ptica Secundaria   \n",
       "5   21245010              PERALES HATO OPIA [21245010]   Clim�tica Ordinaria   \n",
       "6   21215080                       CHICORAL [21215080]   Clim�tica Ordinaria   \n",
       "7   22050100                   GUAYABOS LOS [22050100]         Pluviom�trica   \n",
       "8   23025040                        ALBANIA [23025040]   Clim�tica Ordinaria   \n",
       "9   23010080                    IDEMA-HONDA [23010080]         Pluviom�trica   \n",
       "10  23010020                        EDEN EL [23010020]         Pluviom�trica   \n",
       "11  21250450                POTOSI HACIENDA [21250450]         Pluviom�trica   \n",
       "12  21255120                   VILLAHERMOSA [21255120]   Clim�tica Ordinaria   \n",
       "13  21255090                  ARMERO GRANJA [21255090]   Clim�tica Principal   \n",
       "14  21255080                       SALTO EL [21255080]   Clim�tica Principal   \n",
       "15  21250480                  SANTA BARBARA [21250480]         Pluviom�trica   \n",
       "16  21250170                       BOQUERON [21250170]         Pluviom�trica   \n",
       "17  21250050                   ALTO DEL OSO [21250050]         Pluviom�trica   \n",
       "18  21255170                  MURILLO - AUT [21255170]   Clim�tica Principal   \n",
       "19  21255140                      QUINTA LA [21255140]   Clim�tica Principal   \n",
       "20  21210260                    SILENCIO EL [21210260]         Pluviogr�fica   \n",
       "21  21210240                     INTERLAKEN [21210240]         Pluviom�trica   \n",
       "22  21210230                      CRUZ ROJA [21210230]         Pluviom�trica   \n",
       "23  21210220                      PALMAR EL [21210220]         Pluviogr�fica   \n",
       "24  21210200                   BUENOS AIRES [21210200]         Pluviom�trica   \n",
       "25  21210180                          TOCHE [21210180]         Pluviogr�fica   \n",
       "26  21210170            PALOGRANDE HACIENDA [21210170]         Pluviom�trica   \n",
       "27  21210150                     CASCADA LA [21210150]         Pluviom�trica   \n",
       "28  21210140                        PLAN EL [21210140]         Pluviom�trica   \n",
       "29  21210130                   DELICIAS LAS [21210130]         Pluviom�trica   \n",
       "30  21210120                   ESMERALDA LA [21210120]         Pluviogr�fica   \n",
       "31  21210110                      PLACER EL [21210110]         Pluviogr�fica   \n",
       "32  21210080                     SECRETO EL [21210080]         Pluviogr�fica   \n",
       "33  21210030                       PASTALES [21210030]         Pluviogr�fica   \n",
       "34  21210020                     JUNTAS LAS [21210020]         Pluviogr�fica   \n",
       "35  21250500                         LIBANO [21250500]         Pluviom�trica   \n",
       "36  21250100                    ESTRELLA LA [21250100]         Pluviom�trica   \n",
       "37  21250070                      SIERRA LA [21250070]         Pluviom�trica   \n",
       "38  21240110                      BODEGA LA [21240110]         Pluviom�trica   \n",
       "39  21255110                   SANTA ISABEL [21255110]   Clim�tica Ordinaria   \n",
       "40  21240070                     ANZOATEGUI [21240070]         Pluviom�trica   \n",
       "41  21240030              SAN JUAN DE CHINA [21240030]         Pluviom�trica   \n",
       "42  21220050                    ACEITUNO EL [21220050]         Pluviom�trica   \n",
       "43  22075050    PARAMO DE YERBABUENA  - AUT [22075050]   Clim�tica Principal   \n",
       "44  21210190                      RESACA LA [21210190]         Pluviogr�fica   \n",
       "45  21185090                  NATAIMA - AUT [21185090]     Agrometeorol�gica   \n",
       "46  21180040                       ROVIRA 2 [21180040]         Pluviom�trica   \n",
       "47         4                              referencia_4                   NaN   \n",
       "48         2                              referencia_2                   NaN   \n",
       "\n",
       "    altitud   latitud   longitud          MUNICIPIO  \\\n",
       "0      2530  4.435667 -75.500361          Cajamarca   \n",
       "1      1323  4.418389 -75.248667             Ibagu�   \n",
       "2      1946  4.470361 -75.243861             Ibagu�   \n",
       "3       430  4.663806 -74.917750          Venadillo   \n",
       "4       943  4.424139 -75.139417             Ibagu�   \n",
       "5       826  4.429667 -75.200522             Ibagu�   \n",
       "6       432  4.231528 -74.995361            Espinal   \n",
       "7       330  4.656556 -75.096944            Coyaima   \n",
       "8       788  5.285697 -74.902639          Mariquita   \n",
       "9      2508  5.201417 -74.749583              Honda   \n",
       "10     1670  5.158389 -75.048917             Fresno   \n",
       "11      389  5.053028 -74.882472  Armero (Guayabal)   \n",
       "12      269  5.016853 -75.117611       Villahermosa   \n",
       "13      321  5.000000 -74.899992  Armero (Guayabal)   \n",
       "14     1139  4.783750 -74.767944           Ambalema   \n",
       "15     3371  4.906611 -75.220194            Murillo   \n",
       "16     3740  4.903889 -75.252778       Villahermosa   \n",
       "17     3150  4.850000 -75.250000            Murillo   \n",
       "18      323  4.870556 -75.173278            Murillo   \n",
       "19      429  4.821500 -74.920639             L�rida   \n",
       "20     2500  4.633333 -75.383333             Ibagu�   \n",
       "21     1174  4.421028 -75.220556             Ibagu�   \n",
       "22     1176  4.429722 -75.207750             Ibagu�   \n",
       "23     2200  4.580111 -75.325667             Ibagu�   \n",
       "24      728  4.335139 -75.073444             Ibagu�   \n",
       "25     1991  4.519500 -75.409833             Ibagu�   \n",
       "26     2212  4.331889 -75.401333             Ibagu�   \n",
       "27     3280  4.284389 -75.542333          Cajamarca   \n",
       "28      388  4.383750 -75.496861          Cajamarca   \n",
       "29      295  4.380333 -75.511750          Cajamarca   \n",
       "30     1965  4.490917 -75.239417             Ibagu�   \n",
       "31     2170  4.520944 -75.277889             Ibagu�   \n",
       "32     1482  4.494278 -75.289944             Ibagu�   \n",
       "33     1602  4.511056 -75.300833             Ibagu�   \n",
       "34     1765  4.556306 -75.321639             Ibagu�   \n",
       "35     1649  4.921889 -75.075861             L�bano   \n",
       "36      331  4.761833 -74.898694          Venadillo   \n",
       "37      472  4.800111 -74.935694             L�rida   \n",
       "38     2670  4.735611 -75.138917       Santa Isabel   \n",
       "39     2817  4.701750 -75.131833       Santa Isabel   \n",
       "40     1814  4.637500 -75.090000         Anzo�tegui   \n",
       "41     1980  4.542444 -75.075389             Ibagu�   \n",
       "42      680  4.353444 -75.053056             Ibagu�   \n",
       "43     3394  4.075806 -75.700833       Roncesvalles   \n",
       "44     1250  4.274500 -75.148417  San Luis (Tolima)   \n",
       "45      393  4.188139 -74.960472            Espinal   \n",
       "46      848  4.242500 -75.242500             Rovira   \n",
       "47        0  5.408000 -74.440000                NaN   \n",
       "48        0  5.408000 -76.154000                NaN   \n",
       "\n",
       "                           SUBZONA_HIDROGRAFICA           1           2  \\\n",
       "0                                    R�o Coello   41.165000   32.510000   \n",
       "1                                    R�o Coello   52.400000   29.560000   \n",
       "2                                    R�o Coello   75.735000   79.375000   \n",
       "3   R�o Lagunilla y Otros Directos al Magdalena   66.100000   57.350000   \n",
       "4                                      R�o Op�a   87.330000   91.460000   \n",
       "5                                    R�o Totare   55.305000   67.775000   \n",
       "6                                    R�o Coello   63.460000   67.800000   \n",
       "7                                    R�o Totare   82.140000   94.440000   \n",
       "8                                   R�o Guarin�  236.840000  173.885000   \n",
       "9                                     R�o Gual�   42.795000   47.295000   \n",
       "10                                    R�o Gual�  144.550000  151.310000   \n",
       "11  R�o Lagunilla y Otros Directos al Magdalena  103.040000  105.750000   \n",
       "12  R�o Lagunilla y Otros Directos al Magdalena  154.655000  209.890000   \n",
       "13  R�o Lagunilla y Otros Directos al Magdalena   86.880000   97.075000   \n",
       "14                                   R�o Coello   53.515000   64.375000   \n",
       "15  R�o Lagunilla y Otros Directos al Magdalena   43.300000   50.450000   \n",
       "16  R�o Lagunilla y Otros Directos al Magdalena   54.500000   91.400000   \n",
       "17  R�o Lagunilla y Otros Directos al Magdalena   34.040000   45.575000   \n",
       "18  R�o Lagunilla y Otros Directos al Magdalena   48.735000   67.755000   \n",
       "19  R�o Lagunilla y Otros Directos al Magdalena   50.955000   52.690000   \n",
       "20                                   R�o Coello   34.610000   40.595000   \n",
       "21                                   R�o Coello  128.110000  111.365000   \n",
       "22                                   R�o Totare  128.575000  123.380000   \n",
       "23                                   R�o Coello   35.250000   51.690000   \n",
       "24                                   R�o Coello   63.455000   68.150000   \n",
       "25                                   R�o Coello   34.800000   54.300000   \n",
       "26                                   R�o Coello   45.120000   64.435000   \n",
       "27                                   R�o Coello   33.850000   47.750000   \n",
       "28                                   R�o Coello   47.195000   37.000000   \n",
       "29                                   R�o Coello   38.600000   49.400000   \n",
       "30                                   R�o Coello   99.860000  134.025000   \n",
       "31                                   R�o Coello   73.265000   87.890000   \n",
       "32                                   R�o Coello   72.975000   92.725000   \n",
       "33                                   R�o Coello   50.825000  105.080000   \n",
       "34                                   R�o Coello   39.100000   52.030000   \n",
       "35  R�o Lagunilla y Otros Directos al Magdalena  146.205000  164.110000   \n",
       "36  R�o Lagunilla y Otros Directos al Magdalena   63.850000   66.700000   \n",
       "37  R�o Lagunilla y Otros Directos al Magdalena   73.075000   82.570000   \n",
       "38  R�o Lagunilla y Otros Directos al Magdalena   73.855000   88.190000   \n",
       "39                                   R�o Totare   66.940000   86.440000   \n",
       "40                                   R�o Totare  120.685000  124.530000   \n",
       "41                                   R�o Totare   71.815000  112.185000   \n",
       "42                                   R�o Coello   39.100000   31.350000   \n",
       "43                                  R�o Cucuana   21.740000   21.235000   \n",
       "44      R�o Luisa y otros directos al Magdalena   75.630000   80.320000   \n",
       "45      R�o Luisa y otros directos al Magdalena   36.445000   26.900000   \n",
       "46      R�o Luisa y otros directos al Magdalena  107.050000  109.650000   \n",
       "47                                          NaN   47.022919   58.129577   \n",
       "48                                          NaN   52.545423   64.209742   \n",
       "\n",
       "             3           4           5           6           7           8  \\\n",
       "0    45.990000   64.850000   75.710000   66.719048   49.057143   37.166667   \n",
       "1    66.565000   84.020000   98.215000   53.285714   27.738095   20.938095   \n",
       "2    81.220000   82.085000   83.050000   76.504762   42.528571   66.719048   \n",
       "3   123.950000  175.850000  194.700000   90.809524   75.095238   58.714286   \n",
       "4   155.090000  214.800000  194.280000   81.747619   57.947619   63.052381   \n",
       "5   129.565000  185.540000  166.480000   80.933333   66.452381   58.347619   \n",
       "6   162.695000  194.900000  160.315000   78.928571   50.409524   39.042857   \n",
       "7   147.750000  192.615000  137.790000   60.200000   54.471429   25.923810   \n",
       "8   295.225000  328.875000  311.655000  142.500000  100.728571  148.528571   \n",
       "9    83.310000  132.545000  138.575000   41.600000   34.238095   60.685714   \n",
       "10  226.215000  249.385000  254.615000  108.885714   92.866667  124.009524   \n",
       "11  144.630000  230.600000  214.285000   88.000000   61.609524   97.238095   \n",
       "12  252.485000  258.185000  286.640000  134.323810   90.257143  108.404762   \n",
       "13  150.090000  223.865000  230.410000   93.195238   70.504762   91.176190   \n",
       "14  106.730000  168.275000  160.465000   56.576190   37.447619   51.804762   \n",
       "15   98.750000  142.420000  116.250000   72.619048   51.857143   45.809524   \n",
       "16  119.690000  172.885000  163.495000   69.142857   37.790476   32.971429   \n",
       "17  181.830000  175.395000  203.205000  147.857143  108.980952   88.823810   \n",
       "18  122.415000  146.920000  179.690000  108.385714   67.790476   55.347619   \n",
       "19  115.035000  151.940000  144.275000   83.142857   55.114286   66.838095   \n",
       "20   82.760000  122.860000  158.210000  114.104762   81.076190   77.914286   \n",
       "21  206.680000  248.855000  217.890000  132.357143   87.490476   76.395238   \n",
       "22  164.475000  221.690000  178.085000   81.485714   65.852381   44.128571   \n",
       "23  101.010000  137.020000  145.650000  130.933333  100.266667   93.723810   \n",
       "24  155.255000  228.430000  193.800000   93.723810   60.357143   55.380952   \n",
       "25   95.850000   90.250000  159.835000  117.619048  115.809524   81.285714   \n",
       "26  134.845000  137.810000  157.205000  122.157143  104.004762   72.685714   \n",
       "27   69.000000   96.725000   89.150000   61.238095   44.285714   32.095238   \n",
       "28   77.210000   94.625000  104.625000   79.833333   55.190476   46.176190   \n",
       "29  101.650000  127.380000  132.550000   98.809524   83.966667   59.519048   \n",
       "30  188.795000  182.785000  167.580000  109.076190  106.157143  116.728571   \n",
       "31  184.370000  204.390000  234.915000  175.638095  149.395238  143.185714   \n",
       "32  170.900000  195.540000  232.385000  151.890476  133.066667  113.638095   \n",
       "33  160.235000  183.855000  206.275000  159.347619  119.176191  119.419048   \n",
       "34  111.290000  133.320000  155.955000  121.995238  106.704762   97.914286   \n",
       "35  229.490000  264.110000  267.170000  120.471429  105.866667   94.228571   \n",
       "36  119.700000  202.100000  208.085000   82.047619   71.790476   75.761905   \n",
       "37  123.135000  198.085000  207.495000   97.061905   74.142857   74.366667   \n",
       "38  125.375000  145.480000  147.210000   78.214286   64.361905   69.457143   \n",
       "39  145.545000  186.400000  181.490000   96.847619   70.076190   70.990476   \n",
       "40  182.260000  200.200000  202.990000  124.714286   85.671429   66.666667   \n",
       "41  139.040000  188.490000  167.965000   85.690476   52.061905   72.366667   \n",
       "42   98.500000   92.000000  108.250000   54.000000   37.333333   26.333333   \n",
       "43   47.620000   66.465000   57.490000   42.557143   48.261905   28.823810   \n",
       "44  135.115000  218.965000  145.965000   75.833333   42.280952   40.761905   \n",
       "45   89.805000  110.825000  111.400000   51.119048   38.547619   22.804762   \n",
       "46  176.050000  239.800000  223.000000  107.857143   57.904762   70.380952   \n",
       "47   84.584635  126.414597  124.650192   57.843534   41.781050   54.988220   \n",
       "48   93.551995  119.169484  117.890141   67.307981   51.004225   55.212793   \n",
       "\n",
       "             9          10          11          12  \n",
       "0    33.695238   59.604762   57.895238   47.130000  \n",
       "1    34.852381   71.047619   45.071429   22.675000  \n",
       "2    99.309524  115.504762  130.585714   93.525000  \n",
       "3   100.476191  136.809524   85.000000   65.000000  \n",
       "4   105.252381  182.742857  164.109524  117.675000  \n",
       "5   107.033333  125.547619  103.204762   80.610000  \n",
       "6    85.661905  138.547619  126.828571  104.540000  \n",
       "7    64.342857  135.847619  132.971429  116.795000  \n",
       "8   210.990476  454.557143  493.342857  327.310000  \n",
       "9    94.919048  150.057143  141.166667   61.445000  \n",
       "10  197.195238  210.619048  241.147619  191.720000  \n",
       "11  122.476191  209.561905  165.904762   99.740000  \n",
       "12  179.280952  285.842857  273.990476  200.865000  \n",
       "13  127.385714  190.480952  149.466667   95.095000  \n",
       "14   84.828571  138.690476  114.938095   61.145000  \n",
       "15   80.347619  156.547619  106.866667   65.000000  \n",
       "16   75.309524  108.666667   92.857143   79.800000  \n",
       "17   93.466667  139.695238  134.347619   70.205000  \n",
       "18  107.457143  139.428571  133.938095   90.545000  \n",
       "19  100.885714  124.804762   89.847619   46.530000  \n",
       "20  112.409524  111.066667   88.566667   35.655000  \n",
       "21  144.871429  180.885714  191.014286  153.345000  \n",
       "22   93.519048  173.209524  190.676190  148.360000  \n",
       "23  110.947619  112.919048   83.080952   50.665000  \n",
       "24  121.033333  179.738095  128.204762   82.825000  \n",
       "25   94.428571  130.142857  138.476191   85.955000  \n",
       "26  109.442857  115.461905   94.704762   61.400000  \n",
       "27   45.047619   52.000000   72.666667   50.500000  \n",
       "28   63.666667   63.438095   66.961905   52.920000  \n",
       "29   84.380952  107.195238   82.809524   67.995000  \n",
       "30  121.442857  202.980952  152.476191  119.575000  \n",
       "31  170.933333  206.442857  150.104762  106.100000  \n",
       "32  162.580952  153.523809  135.076190   95.855000  \n",
       "33  148.833333  147.528571  101.619048   89.285000  \n",
       "34  121.309524  113.452381   76.738095   51.645000  \n",
       "35  162.385714  235.452381  192.300000  152.905000  \n",
       "36   95.666667  156.333333  116.761905   60.450000  \n",
       "37  119.890476  149.723809  102.190476   77.710000  \n",
       "38  122.928571  122.995238  132.333333   98.100000  \n",
       "39  117.561905  165.200000  149.700000   86.345000  \n",
       "40  136.000000  217.523809  213.476191  136.850000  \n",
       "41  131.947619  174.628571  125.580952  100.900000  \n",
       "42   69.809524   83.571429   71.666667   41.650000  \n",
       "43   28.195238   40.719048   52.466667   32.715000  \n",
       "44   94.161905  159.185714  117.414286   84.400000  \n",
       "45   75.061905   84.876190   66.904762   49.780000  \n",
       "46  130.142857  200.904762  221.476191  139.350000  \n",
       "47   88.449552  122.005762   93.776440   59.505506  \n",
       "48   88.451995  113.467840   98.891901   65.552934  "
      ],
      "text/html": "<div>\n<style scoped>\n    .dataframe tbody tr th:only-of-type {\n        vertical-align: middle;\n    }\n\n    .dataframe tbody tr th {\n        vertical-align: top;\n    }\n\n    .dataframe thead th {\n        text-align: right;\n    }\n</style>\n<table border=\"1\" class=\"dataframe\">\n  <thead>\n    <tr style=\"text-align: right;\">\n      <th></th>\n      <th>CODIGO</th>\n      <th>nombre</th>\n      <th>CATEGORIA</th>\n      <th>altitud</th>\n      <th>latitud</th>\n      <th>longitud</th>\n      <th>MUNICIPIO</th>\n      <th>SUBZONA_HIDROGRAFICA</th>\n      <th>1</th>\n      <th>2</th>\n      <th>3</th>\n      <th>4</th>\n      <th>5</th>\n      <th>6</th>\n      <th>7</th>\n      <th>8</th>\n      <th>9</th>\n      <th>10</th>\n      <th>11</th>\n      <th>12</th>\n    </tr>\n  </thead>\n  <tbody>\n    <tr>\n      <th>0</th>\n      <td>21215190</td>\n      <td>CAJAMARCA - AUT [21215190]</td>\n      <td>Clim�tica Principal</td>\n      <td>2530</td>\n      <td>4.435667</td>\n      <td>-75.500361</td>\n      <td>Cajamarca</td>\n      <td>R�o Coello</td>\n      <td>41.165000</td>\n      <td>32.510000</td>\n      <td>45.990000</td>\n      <td>64.850000</td>\n      <td>75.710000</td>\n      <td>66.719048</td>\n      <td>49.057143</td>\n      <td>37.166667</td>\n      <td>33.695238</td>\n      <td>59.604762</td>\n      <td>57.895238</td>\n      <td>47.130000</td>\n    </tr>\n    <tr>\n      <th>1</th>\n      <td>21215180</td>\n      <td>BATALLON ROOKE  - AUT [21215180]</td>\n      <td>Clim�tica Principal</td>\n      <td>1323</td>\n      <td>4.418389</td>\n      <td>-75.248667</td>\n      <td>Ibagu�</td>\n      <td>R�o Coello</td>\n      <td>52.400000</td>\n      <td>29.560000</td>\n      <td>66.565000</td>\n      <td>84.020000</td>\n      <td>98.215000</td>\n      <td>53.285714</td>\n      <td>27.738095</td>\n      <td>20.938095</td>\n      <td>34.852381</td>\n      <td>71.047619</td>\n      <td>45.071429</td>\n      <td>22.675000</td>\n    </tr>\n    <tr>\n      <th>2</th>\n      <td>21215160</td>\n      <td>CERROS NOROCCIDENTALES  - AUT [21215160]</td>\n      <td>Clim�tica Principal</td>\n      <td>1946</td>\n      <td>4.470361</td>\n      <td>-75.243861</td>\n      <td>Ibagu�</td>\n      <td>R�o Coello</td>\n      <td>75.735000</td>\n      <td>79.375000</td>\n      <td>81.220000</td>\n      <td>82.085000</td>\n      <td>83.050000</td>\n      <td>76.504762</td>\n      <td>42.528571</td>\n      <td>66.719048</td>\n      <td>99.309524</td>\n      <td>115.504762</td>\n      <td>130.585714</td>\n      <td>93.525000</td>\n    </tr>\n    <tr>\n      <th>3</th>\n      <td>21250460</td>\n      <td>VENADILLO [21250460]</td>\n      <td>Pluviom�trica</td>\n      <td>430</td>\n      <td>4.663806</td>\n      <td>-74.917750</td>\n      <td>Venadillo</td>\n      <td>R�o Lagunilla y Otros Directos al Magdalena</td>\n      <td>66.100000</td>\n      <td>57.350000</td>\n      <td>123.950000</td>\n      <td>175.850000</td>\n      <td>194.700000</td>\n      <td>90.809524</td>\n      <td>75.095238</td>\n      <td>58.714286</td>\n      <td>100.476191</td>\n      <td>136.809524</td>\n      <td>85.000000</td>\n      <td>65.000000</td>\n    </tr>\n    <tr>\n      <th>4</th>\n      <td>21245040</td>\n      <td>AEROPUERTO PERALES [21245040]</td>\n      <td>Sin�ptica Secundaria</td>\n      <td>943</td>\n      <td>4.424139</td>\n      <td>-75.139417</td>\n      <td>Ibagu�</td>\n      <td>R�o Op�a</td>\n      <td>87.330000</td>\n      <td>91.460000</td>\n      <td>155.090000</td>\n      <td>214.800000</td>\n      <td>194.280000</td>\n      <td>81.747619</td>\n      <td>57.947619</td>\n      <td>63.052381</td>\n      <td>105.252381</td>\n      <td>182.742857</td>\n      <td>164.109524</td>\n      <td>117.675000</td>\n    </tr>\n    <tr>\n      <th>5</th>\n      <td>21245010</td>\n      <td>PERALES HATO OPIA [21245010]</td>\n      <td>Clim�tica Ordinaria</td>\n      <td>826</td>\n      <td>4.429667</td>\n      <td>-75.200522</td>\n      <td>Ibagu�</td>\n      <td>R�o Totare</td>\n      <td>55.305000</td>\n      <td>67.775000</td>\n      <td>129.565000</td>\n      <td>185.540000</td>\n      <td>166.480000</td>\n      <td>80.933333</td>\n      <td>66.452381</td>\n      <td>58.347619</td>\n      <td>107.033333</td>\n      <td>125.547619</td>\n      <td>103.204762</td>\n      <td>80.610000</td>\n    </tr>\n    <tr>\n      <th>6</th>\n      <td>21215080</td>\n      <td>CHICORAL [21215080]</td>\n      <td>Clim�tica Ordinaria</td>\n      <td>432</td>\n      <td>4.231528</td>\n      <td>-74.995361</td>\n      <td>Espinal</td>\n      <td>R�o Coello</td>\n      <td>63.460000</td>\n      <td>67.800000</td>\n      <td>162.695000</td>\n      <td>194.900000</td>\n      <td>160.315000</td>\n      <td>78.928571</td>\n      <td>50.409524</td>\n      <td>39.042857</td>\n      <td>85.661905</td>\n      <td>138.547619</td>\n      <td>126.828571</td>\n      <td>104.540000</td>\n    </tr>\n    <tr>\n      <th>7</th>\n      <td>22050100</td>\n      <td>GUAYABOS LOS [22050100]</td>\n      <td>Pluviom�trica</td>\n      <td>330</td>\n      <td>4.656556</td>\n      <td>-75.096944</td>\n      <td>Coyaima</td>\n      <td>R�o Totare</td>\n      <td>82.140000</td>\n      <td>94.440000</td>\n      <td>147.750000</td>\n      <td>192.615000</td>\n      <td>137.790000</td>\n      <td>60.200000</td>\n      <td>54.471429</td>\n      <td>25.923810</td>\n      <td>64.342857</td>\n      <td>135.847619</td>\n      <td>132.971429</td>\n      <td>116.795000</td>\n    </tr>\n    <tr>\n      <th>8</th>\n      <td>23025040</td>\n      <td>ALBANIA [23025040]</td>\n      <td>Clim�tica Ordinaria</td>\n      <td>788</td>\n      <td>5.285697</td>\n      <td>-74.902639</td>\n      <td>Mariquita</td>\n      <td>R�o Guarin�</td>\n      <td>236.840000</td>\n      <td>173.885000</td>\n      <td>295.225000</td>\n      <td>328.875000</td>\n      <td>311.655000</td>\n      <td>142.500000</td>\n      <td>100.728571</td>\n      <td>148.528571</td>\n      <td>210.990476</td>\n      <td>454.557143</td>\n      <td>493.342857</td>\n      <td>327.310000</td>\n    </tr>\n    <tr>\n      <th>9</th>\n      <td>23010080</td>\n      <td>IDEMA-HONDA [23010080]</td>\n      <td>Pluviom�trica</td>\n      <td>2508</td>\n      <td>5.201417</td>\n      <td>-74.749583</td>\n      <td>Honda</td>\n      <td>R�o Gual�</td>\n      <td>42.795000</td>\n      <td>47.295000</td>\n      <td>83.310000</td>\n      <td>132.545000</td>\n      <td>138.575000</td>\n      <td>41.600000</td>\n      <td>34.238095</td>\n      <td>60.685714</td>\n      <td>94.919048</td>\n      <td>150.057143</td>\n      <td>141.166667</td>\n      <td>61.445000</td>\n    </tr>\n    <tr>\n      <th>10</th>\n      <td>23010020</td>\n      <td>EDEN EL [23010020]</td>\n      <td>Pluviom�trica</td>\n      <td>1670</td>\n      <td>5.158389</td>\n      <td>-75.048917</td>\n      <td>Fresno</td>\n      <td>R�o Gual�</td>\n      <td>144.550000</td>\n      <td>151.310000</td>\n      <td>226.215000</td>\n      <td>249.385000</td>\n      <td>254.615000</td>\n      <td>108.885714</td>\n      <td>92.866667</td>\n      <td>124.009524</td>\n      <td>197.195238</td>\n      <td>210.619048</td>\n      <td>241.147619</td>\n      <td>191.720000</td>\n    </tr>\n    <tr>\n      <th>11</th>\n      <td>21250450</td>\n      <td>POTOSI HACIENDA [21250450]</td>\n      <td>Pluviom�trica</td>\n      <td>389</td>\n      <td>5.053028</td>\n      <td>-74.882472</td>\n      <td>Armero (Guayabal)</td>\n      <td>R�o Lagunilla y Otros Directos al Magdalena</td>\n      <td>103.040000</td>\n      <td>105.750000</td>\n      <td>144.630000</td>\n      <td>230.600000</td>\n      <td>214.285000</td>\n      <td>88.000000</td>\n      <td>61.609524</td>\n      <td>97.238095</td>\n      <td>122.476191</td>\n      <td>209.561905</td>\n      <td>165.904762</td>\n      <td>99.740000</td>\n    </tr>\n    <tr>\n      <th>12</th>\n      <td>21255120</td>\n      <td>VILLAHERMOSA [21255120]</td>\n      <td>Clim�tica Ordinaria</td>\n      <td>269</td>\n      <td>5.016853</td>\n      <td>-75.117611</td>\n      <td>Villahermosa</td>\n      <td>R�o Lagunilla y Otros Directos al Magdalena</td>\n      <td>154.655000</td>\n      <td>209.890000</td>\n      <td>252.485000</td>\n      <td>258.185000</td>\n      <td>286.640000</td>\n      <td>134.323810</td>\n      <td>90.257143</td>\n      <td>108.404762</td>\n      <td>179.280952</td>\n      <td>285.842857</td>\n      <td>273.990476</td>\n      <td>200.865000</td>\n    </tr>\n    <tr>\n      <th>13</th>\n      <td>21255090</td>\n      <td>ARMERO GRANJA [21255090]</td>\n      <td>Clim�tica Principal</td>\n      <td>321</td>\n      <td>5.000000</td>\n      <td>-74.899992</td>\n      <td>Armero (Guayabal)</td>\n      <td>R�o Lagunilla y Otros Directos al Magdalena</td>\n      <td>86.880000</td>\n      <td>97.075000</td>\n      <td>150.090000</td>\n      <td>223.865000</td>\n      <td>230.410000</td>\n      <td>93.195238</td>\n      <td>70.504762</td>\n      <td>91.176190</td>\n      <td>127.385714</td>\n      <td>190.480952</td>\n      <td>149.466667</td>\n      <td>95.095000</td>\n    </tr>\n    <tr>\n      <th>14</th>\n      <td>21255080</td>\n      <td>SALTO EL [21255080]</td>\n      <td>Clim�tica Principal</td>\n      <td>1139</td>\n      <td>4.783750</td>\n      <td>-74.767944</td>\n      <td>Ambalema</td>\n      <td>R�o Coello</td>\n      <td>53.515000</td>\n      <td>64.375000</td>\n      <td>106.730000</td>\n      <td>168.275000</td>\n      <td>160.465000</td>\n      <td>56.576190</td>\n      <td>37.447619</td>\n      <td>51.804762</td>\n      <td>84.828571</td>\n      <td>138.690476</td>\n      <td>114.938095</td>\n      <td>61.145000</td>\n    </tr>\n    <tr>\n      <th>15</th>\n      <td>21250480</td>\n      <td>SANTA BARBARA [21250480]</td>\n      <td>Pluviom�trica</td>\n      <td>3371</td>\n      <td>4.906611</td>\n      <td>-75.220194</td>\n      <td>Murillo</td>\n      <td>R�o Lagunilla y Otros Directos al Magdalena</td>\n      <td>43.300000</td>\n      <td>50.450000</td>\n      <td>98.750000</td>\n      <td>142.420000</td>\n      <td>116.250000</td>\n      <td>72.619048</td>\n      <td>51.857143</td>\n      <td>45.809524</td>\n      <td>80.347619</td>\n      <td>156.547619</td>\n      <td>106.866667</td>\n      <td>65.000000</td>\n    </tr>\n    <tr>\n      <th>16</th>\n      <td>21250170</td>\n      <td>BOQUERON [21250170]</td>\n      <td>Pluviom�trica</td>\n      <td>3740</td>\n      <td>4.903889</td>\n      <td>-75.252778</td>\n      <td>Villahermosa</td>\n      <td>R�o Lagunilla y Otros Directos al Magdalena</td>\n      <td>54.500000</td>\n      <td>91.400000</td>\n      <td>119.690000</td>\n      <td>172.885000</td>\n      <td>163.495000</td>\n      <td>69.142857</td>\n      <td>37.790476</td>\n      <td>32.971429</td>\n      <td>75.309524</td>\n      <td>108.666667</td>\n      <td>92.857143</td>\n      <td>79.800000</td>\n    </tr>\n    <tr>\n      <th>17</th>\n      <td>21250050</td>\n      <td>ALTO DEL OSO [21250050]</td>\n      <td>Pluviom�trica</td>\n      <td>3150</td>\n      <td>4.850000</td>\n      <td>-75.250000</td>\n      <td>Murillo</td>\n      <td>R�o Lagunilla y Otros Directos al Magdalena</td>\n      <td>34.040000</td>\n      <td>45.575000</td>\n      <td>181.830000</td>\n      <td>175.395000</td>\n      <td>203.205000</td>\n      <td>147.857143</td>\n      <td>108.980952</td>\n      <td>88.823810</td>\n      <td>93.466667</td>\n      <td>139.695238</td>\n      <td>134.347619</td>\n      <td>70.205000</td>\n    </tr>\n    <tr>\n      <th>18</th>\n      <td>21255170</td>\n      <td>MURILLO - AUT [21255170]</td>\n      <td>Clim�tica Principal</td>\n      <td>323</td>\n      <td>4.870556</td>\n      <td>-75.173278</td>\n      <td>Murillo</td>\n      <td>R�o Lagunilla y Otros Directos al Magdalena</td>\n      <td>48.735000</td>\n      <td>67.755000</td>\n      <td>122.415000</td>\n      <td>146.920000</td>\n      <td>179.690000</td>\n      <td>108.385714</td>\n      <td>67.790476</td>\n      <td>55.347619</td>\n      <td>107.457143</td>\n      <td>139.428571</td>\n      <td>133.938095</td>\n      <td>90.545000</td>\n    </tr>\n    <tr>\n      <th>19</th>\n      <td>21255140</td>\n      <td>QUINTA LA [21255140]</td>\n      <td>Clim�tica Principal</td>\n      <td>429</td>\n      <td>4.821500</td>\n      <td>-74.920639</td>\n      <td>L�rida</td>\n      <td>R�o Lagunilla y Otros Directos al Magdalena</td>\n      <td>50.955000</td>\n      <td>52.690000</td>\n      <td>115.035000</td>\n      <td>151.940000</td>\n      <td>144.275000</td>\n      <td>83.142857</td>\n      <td>55.114286</td>\n      <td>66.838095</td>\n      <td>100.885714</td>\n      <td>124.804762</td>\n      <td>89.847619</td>\n      <td>46.530000</td>\n    </tr>\n    <tr>\n      <th>20</th>\n      <td>21210260</td>\n      <td>SILENCIO EL [21210260]</td>\n      <td>Pluviogr�fica</td>\n      <td>2500</td>\n      <td>4.633333</td>\n      <td>-75.383333</td>\n      <td>Ibagu�</td>\n      <td>R�o Coello</td>\n      <td>34.610000</td>\n      <td>40.595000</td>\n      <td>82.760000</td>\n      <td>122.860000</td>\n      <td>158.210000</td>\n      <td>114.104762</td>\n      <td>81.076190</td>\n      <td>77.914286</td>\n      <td>112.409524</td>\n      <td>111.066667</td>\n      <td>88.566667</td>\n      <td>35.655000</td>\n    </tr>\n    <tr>\n      <th>21</th>\n      <td>21210240</td>\n      <td>INTERLAKEN [21210240]</td>\n      <td>Pluviom�trica</td>\n      <td>1174</td>\n      <td>4.421028</td>\n      <td>-75.220556</td>\n      <td>Ibagu�</td>\n      <td>R�o Coello</td>\n      <td>128.110000</td>\n      <td>111.365000</td>\n      <td>206.680000</td>\n      <td>248.855000</td>\n      <td>217.890000</td>\n      <td>132.357143</td>\n      <td>87.490476</td>\n      <td>76.395238</td>\n      <td>144.871429</td>\n      <td>180.885714</td>\n      <td>191.014286</td>\n      <td>153.345000</td>\n    </tr>\n    <tr>\n      <th>22</th>\n      <td>21210230</td>\n      <td>CRUZ ROJA [21210230]</td>\n      <td>Pluviom�trica</td>\n      <td>1176</td>\n      <td>4.429722</td>\n      <td>-75.207750</td>\n      <td>Ibagu�</td>\n      <td>R�o Totare</td>\n      <td>128.575000</td>\n      <td>123.380000</td>\n      <td>164.475000</td>\n      <td>221.690000</td>\n      <td>178.085000</td>\n      <td>81.485714</td>\n      <td>65.852381</td>\n      <td>44.128571</td>\n      <td>93.519048</td>\n      <td>173.209524</td>\n      <td>190.676190</td>\n      <td>148.360000</td>\n    </tr>\n    <tr>\n      <th>23</th>\n      <td>21210220</td>\n      <td>PALMAR EL [21210220]</td>\n      <td>Pluviogr�fica</td>\n      <td>2200</td>\n      <td>4.580111</td>\n      <td>-75.325667</td>\n      <td>Ibagu�</td>\n      <td>R�o Coello</td>\n      <td>35.250000</td>\n      <td>51.690000</td>\n      <td>101.010000</td>\n      <td>137.020000</td>\n      <td>145.650000</td>\n      <td>130.933333</td>\n      <td>100.266667</td>\n      <td>93.723810</td>\n      <td>110.947619</td>\n      <td>112.919048</td>\n      <td>83.080952</td>\n      <td>50.665000</td>\n    </tr>\n    <tr>\n      <th>24</th>\n      <td>21210200</td>\n      <td>BUENOS AIRES [21210200]</td>\n      <td>Pluviom�trica</td>\n      <td>728</td>\n      <td>4.335139</td>\n      <td>-75.073444</td>\n      <td>Ibagu�</td>\n      <td>R�o Coello</td>\n      <td>63.455000</td>\n      <td>68.150000</td>\n      <td>155.255000</td>\n      <td>228.430000</td>\n      <td>193.800000</td>\n      <td>93.723810</td>\n      <td>60.357143</td>\n      <td>55.380952</td>\n      <td>121.033333</td>\n      <td>179.738095</td>\n      <td>128.204762</td>\n      <td>82.825000</td>\n    </tr>\n    <tr>\n      <th>25</th>\n      <td>21210180</td>\n      <td>TOCHE [21210180]</td>\n      <td>Pluviogr�fica</td>\n      <td>1991</td>\n      <td>4.519500</td>\n      <td>-75.409833</td>\n      <td>Ibagu�</td>\n      <td>R�o Coello</td>\n      <td>34.800000</td>\n      <td>54.300000</td>\n      <td>95.850000</td>\n      <td>90.250000</td>\n      <td>159.835000</td>\n      <td>117.619048</td>\n      <td>115.809524</td>\n      <td>81.285714</td>\n      <td>94.428571</td>\n      <td>130.142857</td>\n      <td>138.476191</td>\n      <td>85.955000</td>\n    </tr>\n    <tr>\n      <th>26</th>\n      <td>21210170</td>\n      <td>PALOGRANDE HACIENDA [21210170]</td>\n      <td>Pluviom�trica</td>\n      <td>2212</td>\n      <td>4.331889</td>\n      <td>-75.401333</td>\n      <td>Ibagu�</td>\n      <td>R�o Coello</td>\n      <td>45.120000</td>\n      <td>64.435000</td>\n      <td>134.845000</td>\n      <td>137.810000</td>\n      <td>157.205000</td>\n      <td>122.157143</td>\n      <td>104.004762</td>\n      <td>72.685714</td>\n      <td>109.442857</td>\n      <td>115.461905</td>\n      <td>94.704762</td>\n      <td>61.400000</td>\n    </tr>\n    <tr>\n      <th>27</th>\n      <td>21210150</td>\n      <td>CASCADA LA [21210150]</td>\n      <td>Pluviom�trica</td>\n      <td>3280</td>\n      <td>4.284389</td>\n      <td>-75.542333</td>\n      <td>Cajamarca</td>\n      <td>R�o Coello</td>\n      <td>33.850000</td>\n      <td>47.750000</td>\n      <td>69.000000</td>\n      <td>96.725000</td>\n      <td>89.150000</td>\n      <td>61.238095</td>\n      <td>44.285714</td>\n      <td>32.095238</td>\n      <td>45.047619</td>\n      <td>52.000000</td>\n      <td>72.666667</td>\n      <td>50.500000</td>\n    </tr>\n    <tr>\n      <th>28</th>\n      <td>21210140</td>\n      <td>PLAN EL [21210140]</td>\n      <td>Pluviom�trica</td>\n      <td>388</td>\n      <td>4.383750</td>\n      <td>-75.496861</td>\n      <td>Cajamarca</td>\n      <td>R�o Coello</td>\n      <td>47.195000</td>\n      <td>37.000000</td>\n      <td>77.210000</td>\n      <td>94.625000</td>\n      <td>104.625000</td>\n      <td>79.833333</td>\n      <td>55.190476</td>\n      <td>46.176190</td>\n      <td>63.666667</td>\n      <td>63.438095</td>\n      <td>66.961905</td>\n      <td>52.920000</td>\n    </tr>\n    <tr>\n      <th>29</th>\n      <td>21210130</td>\n      <td>DELICIAS LAS [21210130]</td>\n      <td>Pluviom�trica</td>\n      <td>295</td>\n      <td>4.380333</td>\n      <td>-75.511750</td>\n      <td>Cajamarca</td>\n      <td>R�o Coello</td>\n      <td>38.600000</td>\n      <td>49.400000</td>\n      <td>101.650000</td>\n      <td>127.380000</td>\n      <td>132.550000</td>\n      <td>98.809524</td>\n      <td>83.966667</td>\n      <td>59.519048</td>\n      <td>84.380952</td>\n      <td>107.195238</td>\n      <td>82.809524</td>\n      <td>67.995000</td>\n    </tr>\n    <tr>\n      <th>30</th>\n      <td>21210120</td>\n      <td>ESMERALDA LA [21210120]</td>\n      <td>Pluviogr�fica</td>\n      <td>1965</td>\n      <td>4.490917</td>\n      <td>-75.239417</td>\n      <td>Ibagu�</td>\n      <td>R�o Coello</td>\n      <td>99.860000</td>\n      <td>134.025000</td>\n      <td>188.795000</td>\n      <td>182.785000</td>\n      <td>167.580000</td>\n      <td>109.076190</td>\n      <td>106.157143</td>\n      <td>116.728571</td>\n      <td>121.442857</td>\n      <td>202.980952</td>\n      <td>152.476191</td>\n      <td>119.575000</td>\n    </tr>\n    <tr>\n      <th>31</th>\n      <td>21210110</td>\n      <td>PLACER EL [21210110]</td>\n      <td>Pluviogr�fica</td>\n      <td>2170</td>\n      <td>4.520944</td>\n      <td>-75.277889</td>\n      <td>Ibagu�</td>\n      <td>R�o Coello</td>\n      <td>73.265000</td>\n      <td>87.890000</td>\n      <td>184.370000</td>\n      <td>204.390000</td>\n      <td>234.915000</td>\n      <td>175.638095</td>\n      <td>149.395238</td>\n      <td>143.185714</td>\n      <td>170.933333</td>\n      <td>206.442857</td>\n      <td>150.104762</td>\n      <td>106.100000</td>\n    </tr>\n    <tr>\n      <th>32</th>\n      <td>21210080</td>\n      <td>SECRETO EL [21210080]</td>\n      <td>Pluviogr�fica</td>\n      <td>1482</td>\n      <td>4.494278</td>\n      <td>-75.289944</td>\n      <td>Ibagu�</td>\n      <td>R�o Coello</td>\n      <td>72.975000</td>\n      <td>92.725000</td>\n      <td>170.900000</td>\n      <td>195.540000</td>\n      <td>232.385000</td>\n      <td>151.890476</td>\n      <td>133.066667</td>\n      <td>113.638095</td>\n      <td>162.580952</td>\n      <td>153.523809</td>\n      <td>135.076190</td>\n      <td>95.855000</td>\n    </tr>\n    <tr>\n      <th>33</th>\n      <td>21210030</td>\n      <td>PASTALES [21210030]</td>\n      <td>Pluviogr�fica</td>\n      <td>1602</td>\n      <td>4.511056</td>\n      <td>-75.300833</td>\n      <td>Ibagu�</td>\n      <td>R�o Coello</td>\n      <td>50.825000</td>\n      <td>105.080000</td>\n      <td>160.235000</td>\n      <td>183.855000</td>\n      <td>206.275000</td>\n      <td>159.347619</td>\n      <td>119.176191</td>\n      <td>119.419048</td>\n      <td>148.833333</td>\n      <td>147.528571</td>\n      <td>101.619048</td>\n      <td>89.285000</td>\n    </tr>\n    <tr>\n      <th>34</th>\n      <td>21210020</td>\n      <td>JUNTAS LAS [21210020]</td>\n      <td>Pluviogr�fica</td>\n      <td>1765</td>\n      <td>4.556306</td>\n      <td>-75.321639</td>\n      <td>Ibagu�</td>\n      <td>R�o Coello</td>\n      <td>39.100000</td>\n      <td>52.030000</td>\n      <td>111.290000</td>\n      <td>133.320000</td>\n      <td>155.955000</td>\n      <td>121.995238</td>\n      <td>106.704762</td>\n      <td>97.914286</td>\n      <td>121.309524</td>\n      <td>113.452381</td>\n      <td>76.738095</td>\n      <td>51.645000</td>\n    </tr>\n    <tr>\n      <th>35</th>\n      <td>21250500</td>\n      <td>LIBANO [21250500]</td>\n      <td>Pluviom�trica</td>\n      <td>1649</td>\n      <td>4.921889</td>\n      <td>-75.075861</td>\n      <td>L�bano</td>\n      <td>R�o Lagunilla y Otros Directos al Magdalena</td>\n      <td>146.205000</td>\n      <td>164.110000</td>\n      <td>229.490000</td>\n      <td>264.110000</td>\n      <td>267.170000</td>\n      <td>120.471429</td>\n      <td>105.866667</td>\n      <td>94.228571</td>\n      <td>162.385714</td>\n      <td>235.452381</td>\n      <td>192.300000</td>\n      <td>152.905000</td>\n    </tr>\n    <tr>\n      <th>36</th>\n      <td>21250100</td>\n      <td>ESTRELLA LA [21250100]</td>\n      <td>Pluviom�trica</td>\n      <td>331</td>\n      <td>4.761833</td>\n      <td>-74.898694</td>\n      <td>Venadillo</td>\n      <td>R�o Lagunilla y Otros Directos al Magdalena</td>\n      <td>63.850000</td>\n      <td>66.700000</td>\n      <td>119.700000</td>\n      <td>202.100000</td>\n      <td>208.085000</td>\n      <td>82.047619</td>\n      <td>71.790476</td>\n      <td>75.761905</td>\n      <td>95.666667</td>\n      <td>156.333333</td>\n      <td>116.761905</td>\n      <td>60.450000</td>\n    </tr>\n    <tr>\n      <th>37</th>\n      <td>21250070</td>\n      <td>SIERRA LA [21250070]</td>\n      <td>Pluviom�trica</td>\n      <td>472</td>\n      <td>4.800111</td>\n      <td>-74.935694</td>\n      <td>L�rida</td>\n      <td>R�o Lagunilla y Otros Directos al Magdalena</td>\n      <td>73.075000</td>\n      <td>82.570000</td>\n      <td>123.135000</td>\n      <td>198.085000</td>\n      <td>207.495000</td>\n      <td>97.061905</td>\n      <td>74.142857</td>\n      <td>74.366667</td>\n      <td>119.890476</td>\n      <td>149.723809</td>\n      <td>102.190476</td>\n      <td>77.710000</td>\n    </tr>\n    <tr>\n      <th>38</th>\n      <td>21240110</td>\n      <td>BODEGA LA [21240110]</td>\n      <td>Pluviom�trica</td>\n      <td>2670</td>\n      <td>4.735611</td>\n      <td>-75.138917</td>\n      <td>Santa Isabel</td>\n      <td>R�o Lagunilla y Otros Directos al Magdalena</td>\n      <td>73.855000</td>\n      <td>88.190000</td>\n      <td>125.375000</td>\n      <td>145.480000</td>\n      <td>147.210000</td>\n      <td>78.214286</td>\n      <td>64.361905</td>\n      <td>69.457143</td>\n      <td>122.928571</td>\n      <td>122.995238</td>\n      <td>132.333333</td>\n      <td>98.100000</td>\n    </tr>\n    <tr>\n      <th>39</th>\n      <td>21255110</td>\n      <td>SANTA ISABEL [21255110]</td>\n      <td>Clim�tica Ordinaria</td>\n      <td>2817</td>\n      <td>4.701750</td>\n      <td>-75.131833</td>\n      <td>Santa Isabel</td>\n      <td>R�o Totare</td>\n      <td>66.940000</td>\n      <td>86.440000</td>\n      <td>145.545000</td>\n      <td>186.400000</td>\n      <td>181.490000</td>\n      <td>96.847619</td>\n      <td>70.076190</td>\n      <td>70.990476</td>\n      <td>117.561905</td>\n      <td>165.200000</td>\n      <td>149.700000</td>\n      <td>86.345000</td>\n    </tr>\n    <tr>\n      <th>40</th>\n      <td>21240070</td>\n      <td>ANZOATEGUI [21240070]</td>\n      <td>Pluviom�trica</td>\n      <td>1814</td>\n      <td>4.637500</td>\n      <td>-75.090000</td>\n      <td>Anzo�tegui</td>\n      <td>R�o Totare</td>\n      <td>120.685000</td>\n      <td>124.530000</td>\n      <td>182.260000</td>\n      <td>200.200000</td>\n      <td>202.990000</td>\n      <td>124.714286</td>\n      <td>85.671429</td>\n      <td>66.666667</td>\n      <td>136.000000</td>\n      <td>217.523809</td>\n      <td>213.476191</td>\n      <td>136.850000</td>\n    </tr>\n    <tr>\n      <th>41</th>\n      <td>21240030</td>\n      <td>SAN JUAN DE CHINA [21240030]</td>\n      <td>Pluviom�trica</td>\n      <td>1980</td>\n      <td>4.542444</td>\n      <td>-75.075389</td>\n      <td>Ibagu�</td>\n      <td>R�o Totare</td>\n      <td>71.815000</td>\n      <td>112.185000</td>\n      <td>139.040000</td>\n      <td>188.490000</td>\n      <td>167.965000</td>\n      <td>85.690476</td>\n      <td>52.061905</td>\n      <td>72.366667</td>\n      <td>131.947619</td>\n      <td>174.628571</td>\n      <td>125.580952</td>\n      <td>100.900000</td>\n    </tr>\n    <tr>\n      <th>42</th>\n      <td>21220050</td>\n      <td>ACEITUNO EL [21220050]</td>\n      <td>Pluviom�trica</td>\n      <td>680</td>\n      <td>4.353444</td>\n      <td>-75.053056</td>\n      <td>Ibagu�</td>\n      <td>R�o Coello</td>\n      <td>39.100000</td>\n      <td>31.350000</td>\n      <td>98.500000</td>\n      <td>92.000000</td>\n      <td>108.250000</td>\n      <td>54.000000</td>\n      <td>37.333333</td>\n      <td>26.333333</td>\n      <td>69.809524</td>\n      <td>83.571429</td>\n      <td>71.666667</td>\n      <td>41.650000</td>\n    </tr>\n    <tr>\n      <th>43</th>\n      <td>22075050</td>\n      <td>PARAMO DE YERBABUENA  - AUT [22075050]</td>\n      <td>Clim�tica Principal</td>\n      <td>3394</td>\n      <td>4.075806</td>\n      <td>-75.700833</td>\n      <td>Roncesvalles</td>\n      <td>R�o Cucuana</td>\n      <td>21.740000</td>\n      <td>21.235000</td>\n      <td>47.620000</td>\n      <td>66.465000</td>\n      <td>57.490000</td>\n      <td>42.557143</td>\n      <td>48.261905</td>\n      <td>28.823810</td>\n      <td>28.195238</td>\n      <td>40.719048</td>\n      <td>52.466667</td>\n      <td>32.715000</td>\n    </tr>\n    <tr>\n      <th>44</th>\n      <td>21210190</td>\n      <td>RESACA LA [21210190]</td>\n      <td>Pluviogr�fica</td>\n      <td>1250</td>\n      <td>4.274500</td>\n      <td>-75.148417</td>\n      <td>San Luis (Tolima)</td>\n      <td>R�o Luisa y otros directos al Magdalena</td>\n      <td>75.630000</td>\n      <td>80.320000</td>\n      <td>135.115000</td>\n      <td>218.965000</td>\n      <td>145.965000</td>\n      <td>75.833333</td>\n      <td>42.280952</td>\n      <td>40.761905</td>\n      <td>94.161905</td>\n      <td>159.185714</td>\n      <td>117.414286</td>\n      <td>84.400000</td>\n    </tr>\n    <tr>\n      <th>45</th>\n      <td>21185090</td>\n      <td>NATAIMA - AUT [21185090]</td>\n      <td>Agrometeorol�gica</td>\n      <td>393</td>\n      <td>4.188139</td>\n      <td>-74.960472</td>\n      <td>Espinal</td>\n      <td>R�o Luisa y otros directos al Magdalena</td>\n      <td>36.445000</td>\n      <td>26.900000</td>\n      <td>89.805000</td>\n      <td>110.825000</td>\n      <td>111.400000</td>\n      <td>51.119048</td>\n      <td>38.547619</td>\n      <td>22.804762</td>\n      <td>75.061905</td>\n      <td>84.876190</td>\n      <td>66.904762</td>\n      <td>49.780000</td>\n    </tr>\n    <tr>\n      <th>46</th>\n      <td>21180040</td>\n      <td>ROVIRA 2 [21180040]</td>\n      <td>Pluviom�trica</td>\n      <td>848</td>\n      <td>4.242500</td>\n      <td>-75.242500</td>\n      <td>Rovira</td>\n      <td>R�o Luisa y otros directos al Magdalena</td>\n      <td>107.050000</td>\n      <td>109.650000</td>\n      <td>176.050000</td>\n      <td>239.800000</td>\n      <td>223.000000</td>\n      <td>107.857143</td>\n      <td>57.904762</td>\n      <td>70.380952</td>\n      <td>130.142857</td>\n      <td>200.904762</td>\n      <td>221.476191</td>\n      <td>139.350000</td>\n    </tr>\n    <tr>\n      <th>47</th>\n      <td>4</td>\n      <td>referencia_4</td>\n      <td>NaN</td>\n      <td>0</td>\n      <td>5.408000</td>\n      <td>-74.440000</td>\n      <td>NaN</td>\n      <td>NaN</td>\n      <td>47.022919</td>\n      <td>58.129577</td>\n      <td>84.584635</td>\n      <td>126.414597</td>\n      <td>124.650192</td>\n      <td>57.843534</td>\n      <td>41.781050</td>\n      <td>54.988220</td>\n      <td>88.449552</td>\n      <td>122.005762</td>\n      <td>93.776440</td>\n      <td>59.505506</td>\n    </tr>\n    <tr>\n      <th>48</th>\n      <td>2</td>\n      <td>referencia_2</td>\n      <td>NaN</td>\n      <td>0</td>\n      <td>5.408000</td>\n      <td>-76.154000</td>\n      <td>NaN</td>\n      <td>NaN</td>\n      <td>52.545423</td>\n      <td>64.209742</td>\n      <td>93.551995</td>\n      <td>119.169484</td>\n      <td>117.890141</td>\n      <td>67.307981</td>\n      <td>51.004225</td>\n      <td>55.212793</td>\n      <td>88.451995</td>\n      <td>113.467840</td>\n      <td>98.891901</td>\n      <td>65.552934</td>\n    </tr>\n  </tbody>\n</table>\n</div>"
     },
     "metadata": {},
     "execution_count": 125
    }
   ],
   "source": [
    "filename_info = 'C:/Users/Bender/Desktop/Mapas_ERA/Isoyetas/clima_isoyetas_sup.csv'\n",
    "\n",
    "df_precip_sup_info = pd.read_csv(filename_info)\n",
    "\n",
    "df_precip_sup_info"
   ]
  },
  {
   "cell_type": "code",
   "execution_count": 126,
   "metadata": {},
   "outputs": [
    {
     "output_type": "execute_result",
     "data": {
      "text/plain": [
       "          altitud   longitud   latitud\n",
       "CODIGO                                \n",
       "21215190     2530 -75.500361  4.435667\n",
       "21215180     1323 -75.248667  4.418389\n",
       "21215160     1946 -75.243861  4.470361\n",
       "21250460      430 -74.917750  4.663806\n",
       "21245040      943 -75.139417  4.424139\n",
       "21245010      826 -75.200522  4.429667\n",
       "21215080      432 -74.995361  4.231528\n",
       "22050100      330 -75.096944  4.656556\n",
       "23025040      788 -74.902639  5.285697\n",
       "23010080     2508 -74.749583  5.201417\n",
       "23010020     1670 -75.048917  5.158389\n",
       "21250450      389 -74.882472  5.053028\n",
       "21255120      269 -75.117611  5.016853\n",
       "21255090      321 -74.899992  5.000000\n",
       "21255080     1139 -74.767944  4.783750\n",
       "21250480     3371 -75.220194  4.906611\n",
       "21250170     3740 -75.252778  4.903889\n",
       "21250050     3150 -75.250000  4.850000\n",
       "21255170      323 -75.173278  4.870556\n",
       "21255140      429 -74.920639  4.821500\n",
       "21210260     2500 -75.383333  4.633333\n",
       "21210240     1174 -75.220556  4.421028\n",
       "21210230     1176 -75.207750  4.429722\n",
       "21210220     2200 -75.325667  4.580111\n",
       "21210200      728 -75.073444  4.335139\n",
       "21210180     1991 -75.409833  4.519500\n",
       "21210170     2212 -75.401333  4.331889\n",
       "21210150     3280 -75.542333  4.284389\n",
       "21210140      388 -75.496861  4.383750\n",
       "21210130      295 -75.511750  4.380333\n",
       "21210120     1965 -75.239417  4.490917\n",
       "21210110     2170 -75.277889  4.520944\n",
       "21210080     1482 -75.289944  4.494278\n",
       "21210030     1602 -75.300833  4.511056\n",
       "21210020     1765 -75.321639  4.556306\n",
       "21250500     1649 -75.075861  4.921889\n",
       "21250100      331 -74.898694  4.761833\n",
       "21250070      472 -74.935694  4.800111\n",
       "21240110     2670 -75.138917  4.735611\n",
       "21255110     2817 -75.131833  4.701750\n",
       "21240070     1814 -75.090000  4.637500\n",
       "21240030     1980 -75.075389  4.542444\n",
       "21220050      680 -75.053056  4.353444\n",
       "22075050     3394 -75.700833  4.075806\n",
       "21210190     1250 -75.148417  4.274500\n",
       "21185090      393 -74.960472  4.188139\n",
       "21180040      848 -75.242500  4.242500\n",
       "4               0 -74.440000  5.408000\n",
       "2               0 -76.154000  5.408000"
      ],
      "text/html": "<div>\n<style scoped>\n    .dataframe tbody tr th:only-of-type {\n        vertical-align: middle;\n    }\n\n    .dataframe tbody tr th {\n        vertical-align: top;\n    }\n\n    .dataframe thead th {\n        text-align: right;\n    }\n</style>\n<table border=\"1\" class=\"dataframe\">\n  <thead>\n    <tr style=\"text-align: right;\">\n      <th></th>\n      <th>altitud</th>\n      <th>longitud</th>\n      <th>latitud</th>\n    </tr>\n    <tr>\n      <th>CODIGO</th>\n      <th></th>\n      <th></th>\n      <th></th>\n    </tr>\n  </thead>\n  <tbody>\n    <tr>\n      <th>21215190</th>\n      <td>2530</td>\n      <td>-75.500361</td>\n      <td>4.435667</td>\n    </tr>\n    <tr>\n      <th>21215180</th>\n      <td>1323</td>\n      <td>-75.248667</td>\n      <td>4.418389</td>\n    </tr>\n    <tr>\n      <th>21215160</th>\n      <td>1946</td>\n      <td>-75.243861</td>\n      <td>4.470361</td>\n    </tr>\n    <tr>\n      <th>21250460</th>\n      <td>430</td>\n      <td>-74.917750</td>\n      <td>4.663806</td>\n    </tr>\n    <tr>\n      <th>21245040</th>\n      <td>943</td>\n      <td>-75.139417</td>\n      <td>4.424139</td>\n    </tr>\n    <tr>\n      <th>21245010</th>\n      <td>826</td>\n      <td>-75.200522</td>\n      <td>4.429667</td>\n    </tr>\n    <tr>\n      <th>21215080</th>\n      <td>432</td>\n      <td>-74.995361</td>\n      <td>4.231528</td>\n    </tr>\n    <tr>\n      <th>22050100</th>\n      <td>330</td>\n      <td>-75.096944</td>\n      <td>4.656556</td>\n    </tr>\n    <tr>\n      <th>23025040</th>\n      <td>788</td>\n      <td>-74.902639</td>\n      <td>5.285697</td>\n    </tr>\n    <tr>\n      <th>23010080</th>\n      <td>2508</td>\n      <td>-74.749583</td>\n      <td>5.201417</td>\n    </tr>\n    <tr>\n      <th>23010020</th>\n      <td>1670</td>\n      <td>-75.048917</td>\n      <td>5.158389</td>\n    </tr>\n    <tr>\n      <th>21250450</th>\n      <td>389</td>\n      <td>-74.882472</td>\n      <td>5.053028</td>\n    </tr>\n    <tr>\n      <th>21255120</th>\n      <td>269</td>\n      <td>-75.117611</td>\n      <td>5.016853</td>\n    </tr>\n    <tr>\n      <th>21255090</th>\n      <td>321</td>\n      <td>-74.899992</td>\n      <td>5.000000</td>\n    </tr>\n    <tr>\n      <th>21255080</th>\n      <td>1139</td>\n      <td>-74.767944</td>\n      <td>4.783750</td>\n    </tr>\n    <tr>\n      <th>21250480</th>\n      <td>3371</td>\n      <td>-75.220194</td>\n      <td>4.906611</td>\n    </tr>\n    <tr>\n      <th>21250170</th>\n      <td>3740</td>\n      <td>-75.252778</td>\n      <td>4.903889</td>\n    </tr>\n    <tr>\n      <th>21250050</th>\n      <td>3150</td>\n      <td>-75.250000</td>\n      <td>4.850000</td>\n    </tr>\n    <tr>\n      <th>21255170</th>\n      <td>323</td>\n      <td>-75.173278</td>\n      <td>4.870556</td>\n    </tr>\n    <tr>\n      <th>21255140</th>\n      <td>429</td>\n      <td>-74.920639</td>\n      <td>4.821500</td>\n    </tr>\n    <tr>\n      <th>21210260</th>\n      <td>2500</td>\n      <td>-75.383333</td>\n      <td>4.633333</td>\n    </tr>\n    <tr>\n      <th>21210240</th>\n      <td>1174</td>\n      <td>-75.220556</td>\n      <td>4.421028</td>\n    </tr>\n    <tr>\n      <th>21210230</th>\n      <td>1176</td>\n      <td>-75.207750</td>\n      <td>4.429722</td>\n    </tr>\n    <tr>\n      <th>21210220</th>\n      <td>2200</td>\n      <td>-75.325667</td>\n      <td>4.580111</td>\n    </tr>\n    <tr>\n      <th>21210200</th>\n      <td>728</td>\n      <td>-75.073444</td>\n      <td>4.335139</td>\n    </tr>\n    <tr>\n      <th>21210180</th>\n      <td>1991</td>\n      <td>-75.409833</td>\n      <td>4.519500</td>\n    </tr>\n    <tr>\n      <th>21210170</th>\n      <td>2212</td>\n      <td>-75.401333</td>\n      <td>4.331889</td>\n    </tr>\n    <tr>\n      <th>21210150</th>\n      <td>3280</td>\n      <td>-75.542333</td>\n      <td>4.284389</td>\n    </tr>\n    <tr>\n      <th>21210140</th>\n      <td>388</td>\n      <td>-75.496861</td>\n      <td>4.383750</td>\n    </tr>\n    <tr>\n      <th>21210130</th>\n      <td>295</td>\n      <td>-75.511750</td>\n      <td>4.380333</td>\n    </tr>\n    <tr>\n      <th>21210120</th>\n      <td>1965</td>\n      <td>-75.239417</td>\n      <td>4.490917</td>\n    </tr>\n    <tr>\n      <th>21210110</th>\n      <td>2170</td>\n      <td>-75.277889</td>\n      <td>4.520944</td>\n    </tr>\n    <tr>\n      <th>21210080</th>\n      <td>1482</td>\n      <td>-75.289944</td>\n      <td>4.494278</td>\n    </tr>\n    <tr>\n      <th>21210030</th>\n      <td>1602</td>\n      <td>-75.300833</td>\n      <td>4.511056</td>\n    </tr>\n    <tr>\n      <th>21210020</th>\n      <td>1765</td>\n      <td>-75.321639</td>\n      <td>4.556306</td>\n    </tr>\n    <tr>\n      <th>21250500</th>\n      <td>1649</td>\n      <td>-75.075861</td>\n      <td>4.921889</td>\n    </tr>\n    <tr>\n      <th>21250100</th>\n      <td>331</td>\n      <td>-74.898694</td>\n      <td>4.761833</td>\n    </tr>\n    <tr>\n      <th>21250070</th>\n      <td>472</td>\n      <td>-74.935694</td>\n      <td>4.800111</td>\n    </tr>\n    <tr>\n      <th>21240110</th>\n      <td>2670</td>\n      <td>-75.138917</td>\n      <td>4.735611</td>\n    </tr>\n    <tr>\n      <th>21255110</th>\n      <td>2817</td>\n      <td>-75.131833</td>\n      <td>4.701750</td>\n    </tr>\n    <tr>\n      <th>21240070</th>\n      <td>1814</td>\n      <td>-75.090000</td>\n      <td>4.637500</td>\n    </tr>\n    <tr>\n      <th>21240030</th>\n      <td>1980</td>\n      <td>-75.075389</td>\n      <td>4.542444</td>\n    </tr>\n    <tr>\n      <th>21220050</th>\n      <td>680</td>\n      <td>-75.053056</td>\n      <td>4.353444</td>\n    </tr>\n    <tr>\n      <th>22075050</th>\n      <td>3394</td>\n      <td>-75.700833</td>\n      <td>4.075806</td>\n    </tr>\n    <tr>\n      <th>21210190</th>\n      <td>1250</td>\n      <td>-75.148417</td>\n      <td>4.274500</td>\n    </tr>\n    <tr>\n      <th>21185090</th>\n      <td>393</td>\n      <td>-74.960472</td>\n      <td>4.188139</td>\n    </tr>\n    <tr>\n      <th>21180040</th>\n      <td>848</td>\n      <td>-75.242500</td>\n      <td>4.242500</td>\n    </tr>\n    <tr>\n      <th>4</th>\n      <td>0</td>\n      <td>-74.440000</td>\n      <td>5.408000</td>\n    </tr>\n    <tr>\n      <th>2</th>\n      <td>0</td>\n      <td>-76.154000</td>\n      <td>5.408000</td>\n    </tr>\n  </tbody>\n</table>\n</div>"
     },
     "metadata": {},
     "execution_count": 126
    }
   ],
   "source": [
    "df_precip_sup_info = df_precip_sup_info[['CODIGO','altitud','longitud','latitud']]\n",
    "\n",
    "# convert column \"CODIGO\" to index\n",
    "df_precip_sup_info.set_index('CODIGO', inplace=True)\n",
    "df_precip_sup_info"
   ]
  },
  {
   "cell_type": "code",
   "execution_count": 127,
   "metadata": {},
   "outputs": [
    {
     "output_type": "execute_result",
     "data": {
      "text/plain": [
       "          altitud   longitud   latitud\n",
       "CODIGO                                \n",
       "21210150     3280 -75.542333  4.284389\n",
       "21215160     1946 -75.243861  4.470361\n",
       "21210130      295 -75.511750  4.380333"
      ],
      "text/html": "<div>\n<style scoped>\n    .dataframe tbody tr th:only-of-type {\n        vertical-align: middle;\n    }\n\n    .dataframe tbody tr th {\n        vertical-align: top;\n    }\n\n    .dataframe thead th {\n        text-align: right;\n    }\n</style>\n<table border=\"1\" class=\"dataframe\">\n  <thead>\n    <tr style=\"text-align: right;\">\n      <th></th>\n      <th>altitud</th>\n      <th>longitud</th>\n      <th>latitud</th>\n    </tr>\n    <tr>\n      <th>CODIGO</th>\n      <th></th>\n      <th></th>\n      <th></th>\n    </tr>\n  </thead>\n  <tbody>\n    <tr>\n      <th>21210150</th>\n      <td>3280</td>\n      <td>-75.542333</td>\n      <td>4.284389</td>\n    </tr>\n    <tr>\n      <th>21215160</th>\n      <td>1946</td>\n      <td>-75.243861</td>\n      <td>4.470361</td>\n    </tr>\n    <tr>\n      <th>21210130</th>\n      <td>295</td>\n      <td>-75.511750</td>\n      <td>4.380333</td>\n    </tr>\n  </tbody>\n</table>\n</div>"
     },
     "metadata": {},
     "execution_count": 127
    }
   ],
   "source": [
    "# Leave only the stations of interest\n",
    "# Convert string to int = list(map(int, columnas[1:]))\n",
    "df_precip_sup_info = df_precip_sup_info.loc[list(map(int, columnas[1:]))]\n",
    "df_precip_sup_info"
   ]
  },
  {
   "cell_type": "code",
   "execution_count": 86,
   "metadata": {},
   "outputs": [
    {
     "output_type": "execute_result",
     "data": {
      "text/plain": [
       "'01-01-1950'"
      ]
     },
     "metadata": {},
     "execution_count": 86
    }
   ],
   "source": [
    "# start date\n",
    "date = df_precip_sup['fecha'][0]\n",
    "# Transform to format need for txt file\n",
    "from datetime import datetime\n",
    "shortDate = date.strftime('%d-%m-%Y')\n",
    "shortDate"
   ]
  },
  {
   "cell_type": "code",
   "execution_count": 151,
   "metadata": {},
   "outputs": [
    {
     "output_type": "execute_result",
     "data": {
      "text/plain": [
       "     latitud    longitud\n",
       "0  428438.89 -7554233.33\n",
       "1  447036.11 -7524386.11\n",
       "2  438033.33 -7551175.00"
      ],
      "text/html": "<div>\n<style scoped>\n    .dataframe tbody tr th:only-of-type {\n        vertical-align: middle;\n    }\n\n    .dataframe tbody tr th {\n        vertical-align: top;\n    }\n\n    .dataframe thead th {\n        text-align: right;\n    }\n</style>\n<table border=\"1\" class=\"dataframe\">\n  <thead>\n    <tr style=\"text-align: right;\">\n      <th></th>\n      <th>latitud</th>\n      <th>longitud</th>\n    </tr>\n  </thead>\n  <tbody>\n    <tr>\n      <th>0</th>\n      <td>428438.89</td>\n      <td>-7554233.33</td>\n    </tr>\n    <tr>\n      <th>1</th>\n      <td>447036.11</td>\n      <td>-7524386.11</td>\n    </tr>\n    <tr>\n      <th>2</th>\n      <td>438033.33</td>\n      <td>-7551175.00</td>\n    </tr>\n  </tbody>\n</table>\n</div>"
     },
     "metadata": {},
     "execution_count": 151
    }
   ],
   "source": [
    "# Convert units\n",
    "df_precip_sup_info_2 = df_precip_sup_info[['latitud','longitud']]*100000\n",
    "df_precip_sup_info_2 = df_precip_sup_info_2.round(decimals=2)\n",
    "df_precip_sup_info_2"
   ]
  },
  {
   "cell_type": "code",
   "execution_count": 152,
   "metadata": {},
   "outputs": [
    {
     "output_type": "execute_result",
     "data": {
      "text/plain": [
       "   index    CODIGO  altitud   longitud   latitud\n",
       "0      0  21210150     3280 -75.542333  4.284389\n",
       "1      1  21215160     1946 -75.243861  4.470361\n",
       "2      2  21210130      295 -75.511750  4.380333"
      ],
      "text/html": "<div>\n<style scoped>\n    .dataframe tbody tr th:only-of-type {\n        vertical-align: middle;\n    }\n\n    .dataframe tbody tr th {\n        vertical-align: top;\n    }\n\n    .dataframe thead th {\n        text-align: right;\n    }\n</style>\n<table border=\"1\" class=\"dataframe\">\n  <thead>\n    <tr style=\"text-align: right;\">\n      <th></th>\n      <th>index</th>\n      <th>CODIGO</th>\n      <th>altitud</th>\n      <th>longitud</th>\n      <th>latitud</th>\n    </tr>\n  </thead>\n  <tbody>\n    <tr>\n      <th>0</th>\n      <td>0</td>\n      <td>21210150</td>\n      <td>3280</td>\n      <td>-75.542333</td>\n      <td>4.284389</td>\n    </tr>\n    <tr>\n      <th>1</th>\n      <td>1</td>\n      <td>21215160</td>\n      <td>1946</td>\n      <td>-75.243861</td>\n      <td>4.470361</td>\n    </tr>\n    <tr>\n      <th>2</th>\n      <td>2</td>\n      <td>21210130</td>\n      <td>295</td>\n      <td>-75.511750</td>\n      <td>4.380333</td>\n    </tr>\n  </tbody>\n</table>\n</div>"
     },
     "metadata": {},
     "execution_count": 152
    }
   ],
   "source": [
    "# reset index\n",
    "df_precip_sup_info.reset_index(inplace=True)\n",
    "df_precip_sup_info"
   ]
  },
  {
   "source": [
    "# Text file\n",
    "The next steps are extracted from [here](https://www.guru99.com/reading-and-writing-files-in-python.html#1) and applied to the program needs"
   ],
   "cell_type": "markdown",
   "metadata": {}
  },
  {
   "source": [
    "1. Create the text file in Python"
   ],
   "cell_type": "markdown",
   "metadata": {}
  },
  {
   "cell_type": "code",
   "execution_count": 162,
   "metadata": {},
   "outputs": [],
   "source": [
    "Tetis_file = open(\"Tetis_file.txt\",\"w+\")"
   ]
  },
  {
   "source": [
    "2. Enter data into the file"
   ],
   "cell_type": "markdown",
   "metadata": {}
  },
  {
   "cell_type": "code",
   "execution_count": 163,
   "metadata": {},
   "outputs": [
    {
     "output_type": "execute_result",
     "data": {
      "text/plain": [
       "34"
      ]
     },
     "metadata": {},
     "execution_count": 163
    }
   ],
   "source": [
    "Tetis_file.write(\"G               \"+str(len(df_precip_sup))+\"         1440\\n\")\n",
    "Tetis_file.write(\"*         dd-mm-aaaa  hh:mm\\n\")\n",
    "Tetis_file.write(\"F           \"+shortDate+\"      00:00\\n\")"
   ]
  },
  {
   "cell_type": "code",
   "execution_count": 164,
   "metadata": {},
   "outputs": [],
   "source": [
    "for i in df_precip_sup_info.index.values:\n",
    "    Tetis_file.write(letra+'         \"'+str(df_precip_sup_info['CODIGO'].iloc[i])    +'\" '+str(df_precip_sup_info_2['latitud'].iloc[i])+' '+str(df_precip_sup_info_2['longitud'].iloc[i])+'      '+str(df_precip_sup_info['altitud'].iloc[i])+'\\n')"
   ]
  },
  {
   "source": [
    "3. Close the file instance"
   ],
   "cell_type": "markdown",
   "metadata": {}
  },
  {
   "cell_type": "code",
   "execution_count": 165,
   "metadata": {},
   "outputs": [],
   "source": [
    "Tetis_file.close()"
   ]
  },
  {
   "source": [
    "## How to Append to a File in Python"
   ],
   "cell_type": "markdown",
   "metadata": {}
  },
  {
   "source": [
    "**Step 1)**"
   ],
   "cell_type": "markdown",
   "metadata": {}
  },
  {
   "cell_type": "code",
   "execution_count": null,
   "metadata": {},
   "outputs": [],
   "source": [
    "f=open(\"Tetis_file.txt\", \"a+\")"
   ]
  },
  {
   "source": [
    "**Step 2)** This will write data into the file in append mode."
   ],
   "cell_type": "markdown",
   "metadata": {}
  },
  {
   "cell_type": "code",
   "execution_count": null,
   "metadata": {},
   "outputs": [],
   "source": [
    "for i in range(2):\n",
    "     f.write(\"Appended line %d\\r\\n\" % (i+1))"
   ]
  }
 ]
}